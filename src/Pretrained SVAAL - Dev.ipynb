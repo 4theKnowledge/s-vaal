{
 "cells": [
  {
   "cell_type": "markdown",
   "metadata": {},
   "source": [
    "# Pretrained VAE + GAN"
   ]
  },
  {
   "cell_type": "markdown",
   "metadata": {},
   "source": [
    "1. Load pre-trained VAE and make layers non-differentiable\n",
    "2. Add fully connected layer after VAE latent layer\n",
    "3. Add Generative model"
   ]
  },
  {
   "cell_type": "markdown",
   "metadata": {},
   "source": [
    "Refs: https://github.com/lyeoni/pytorch-mnist-GAN/blob/master/pytorch-mnist-GAN.ipynb"
   ]
  },
  {
   "cell_type": "code",
   "execution_count": 24,
   "metadata": {},
   "outputs": [],
   "source": [
    "import torch\n",
    "import torch.nn as nn\n",
    "\n",
    "Tensor = torch.tensor"
   ]
  },
  {
   "cell_type": "code",
   "execution_count": 8,
   "metadata": {},
   "outputs": [],
   "source": [
    "from models import SVAE, Discriminator\n",
    "from connections import load_config"
   ]
  },
  {
   "cell_type": "code",
   "execution_count": 9,
   "metadata": {},
   "outputs": [],
   "source": [
    "config = load_config()"
   ]
  },
  {
   "cell_type": "code",
   "execution_count": 7,
   "metadata": {},
   "outputs": [],
   "source": []
  },
  {
   "cell_type": "markdown",
   "metadata": {},
   "source": [
    "## Initialise model from config and load stored weights"
   ]
  },
  {
   "cell_type": "code",
   "execution_count": 11,
   "metadata": {},
   "outputs": [],
   "source": [
    "svae_params = config['Models']['SVAE']['Parameters']\n",
    "svae = SVAE(**svae_params, vocab_size=9840)"
   ]
  },
  {
   "cell_type": "code",
   "execution_count": 12,
   "metadata": {},
   "outputs": [
    {
     "data": {
      "text/plain": [
       "<All keys matched successfully>"
      ]
     },
     "execution_count": 12,
     "metadata": {},
     "output_type": "execute_result"
    }
   ],
   "source": [
    "svae_best_model_path = 'best models/svae.pt'\n",
    "svae.load_state_dict(torch.load(svae_best_model_path))"
   ]
  },
  {
   "cell_type": "code",
   "execution_count": 13,
   "metadata": {},
   "outputs": [
    {
     "name": "stdout",
     "output_type": "stream",
     "text": [
      "SVAE(\n",
      "  (embedding): Embedding(9840, 512)\n",
      "  (embedding_dropout): Dropout(p=0.5, inplace=False)\n",
      "  (encoder_rnn): GRU(512, 512, batch_first=True)\n",
      "  (decoder_rnn): GRU(512, 512, batch_first=True)\n",
      "  (hidden2mean): Linear(in_features=512, out_features=16, bias=True)\n",
      "  (hidden2logv): Linear(in_features=512, out_features=16, bias=True)\n",
      "  (z2hidden): Linear(in_features=16, out_features=512, bias=True)\n",
      "  (outputs2vocab): Linear(in_features=512, out_features=9840, bias=True)\n",
      "  (NLL): NLLLoss()\n",
      ")\n"
     ]
    }
   ],
   "source": [
    "print(svae)"
   ]
  },
  {
   "cell_type": "markdown",
   "metadata": {},
   "source": [
    "## Remove last layer of SVAE"
   ]
  },
  {
   "cell_type": "code",
   "execution_count": 16,
   "metadata": {},
   "outputs": [],
   "source": [
    "# Identify layer for replacing unwanted layers\n",
    "# see: https://discuss.pytorch.org/t/how-to-delete-layer-in-pretrained-model/17648\n",
    "class Identity(nn.Module):\n",
    "    def __init__(self):\n",
    "        super(Identity, self).__init__()\n",
    "    \n",
    "    def forward(self, x):\n",
    "        return x"
   ]
  },
  {
   "cell_type": "code",
   "execution_count": 17,
   "metadata": {},
   "outputs": [],
   "source": [
    "# remove outputs2vocab layer in SVAE\n",
    "svae.outputs2vocab = Identity()\n",
    "print(svae)"
   ]
  },
  {
   "cell_type": "markdown",
   "metadata": {},
   "source": [
    "## Freeze layers in SVAE\n",
    "Not required as we'll be passing through the SVAE in the Generator"
   ]
  },
  {
   "cell_type": "raw",
   "metadata": {},
   "source": [
    "# Set parameters to not require gradients\n",
    "# See: https://discuss.pytorch.org/t/best-practice-for-freezing-layers/58156\n",
    "for parameter in svae.parameters():\n",
    "    parameter.requires_grad = False"
   ]
  },
  {
   "cell_type": "code",
   "execution_count": null,
   "metadata": {},
   "outputs": [],
   "source": []
  },
  {
   "cell_type": "markdown",
   "metadata": {},
   "source": [
    "## Initialise Generator"
   ]
  },
  {
   "cell_type": "code",
   "execution_count": 25,
   "metadata": {},
   "outputs": [],
   "source": [
    "class Generator(nn.Module):\n",
    "    def __init__(self, z_dim_in, z_dim_out, fc_dim=128):\n",
    "        super(Generator, self).__init__()\n",
    "        self.z_dim_in = z_dim_in\n",
    "        self.z_dim_out = z_dim_out\n",
    "        self.fc_dim = fc_dim\n",
    "        self.net = nn.Sequential(nn.Linear(self.z_dim_in, self.fc_dim),\n",
    "                                 nn.ReLU(True),\n",
    "                                 nn.Linear(self.fc_dim, self.fc_dim),\n",
    "                                 nn.ReLU(True),\n",
    "                                 nn.Linear(self.fc_dim, self.z_dim_out)\n",
    "                                )\n",
    "        # Initialise weights\n",
    "        self.init_weights()\n",
    "\n",
    "    def init_weights(self):\n",
    "        \"\"\"\n",
    "        Initialises weights with Xavier method rather than Kaiming (TODO: investigate which is more suitable for LM and RNNs)\n",
    "        - See: https://pytorch.org/cppdocs/api/function_namespacetorch_1_1nn_1_1init_1ace282f75916a862c9678343dfd4d5ffe.html\n",
    "        \"\"\"\n",
    "        for block in self._modules:\n",
    "            for m in self._modules[block]:\n",
    "                if type(m) == nn.Linear:\n",
    "                    torch.nn.init.xavier_uniform_(m.weight)\n",
    "                    m.bias.data.fill_(0.01)\n",
    "\n",
    "    def forward(self, z: Tensor) -> Tensor:\n",
    "        return self.net(z)"
   ]
  },
  {
   "cell_type": "code",
   "execution_count": 41,
   "metadata": {},
   "outputs": [],
   "source": [
    "G = Generator(z_dim_in=512, z_dim_out=64)"
   ]
  },
  {
   "cell_type": "markdown",
   "metadata": {},
   "source": [
    "## Initialise Discriminator"
   ]
  },
  {
   "cell_type": "code",
   "execution_count": 44,
   "metadata": {},
   "outputs": [],
   "source": [
    "D = Discriminator(z_dim=64)"
   ]
  },
  {
   "cell_type": "code",
   "execution_count": null,
   "metadata": {},
   "outputs": [],
   "source": []
  },
  {
   "cell_type": "code",
   "execution_count": null,
   "metadata": {},
   "outputs": [],
   "source": []
  },
  {
   "cell_type": "markdown",
   "metadata": {},
   "source": [
    "## Train Model"
   ]
  },
  {
   "cell_type": "code",
   "execution_count": null,
   "metadata": {},
   "outputs": [],
   "source": [
    "task_type = 'SEQ'\n",
    "data_name = 'conll2003'\n",
    "dataset_splits = ['train', 'valid', 'test']"
   ]
  },
  {
   "cell_type": "markdown",
   "metadata": {},
   "source": [
    "#### Set up data loaders"
   ]
  },
  {
   "cell_type": "code",
   "execution_count": null,
   "metadata": {},
   "outputs": [],
   "source": [
    "def _init_data(batch_size=None):\n",
    "    x_y_pair_name = 'seq_label_pairs_enc' if data_name == 'ag_news' else 'seq_tags_pairs_enc' # Key in dataset - semantically correct for the task at hand.\n",
    "\n",
    "    if batch_size is None:\n",
    "        batch_size = config['Train']['batch_size']\n",
    "\n",
    "    # Load pre-processed data\n",
    "    path_data = os.path.join('/home/tyler/Desktop/Repos/s-vaal/data', task_type, data_name, 'data.json')\n",
    "    path_vocab = os.path.join('/home/tyler/Desktop/Repos/s-vaal/data', task_type, data_name, 'vocabs.json')\n",
    "    data = load_json(path_data)\n",
    "    vocab = load_json(path_vocab)       # Required for decoding sequences for interpretations. TODO: Find suitable location... or leave be...\n",
    "    vocab_size = len(vocab['words'])  # word vocab is used for model dimensionality setting + includes special characters (EOS, SOS< UNK, PAD)\n",
    "    tagset_size = len(vocab['tags'])  # this includes special characters (EOS, SOS, UNK, PAD)\n",
    "\n",
    "    datasets = dict()\n",
    "    for split in data_splits:\n",
    "        # Access data\n",
    "        split_data = data[split][x_y_pair_name]\n",
    "        # Convert lists of encoded sequences into tensors and stack into one large tensor\n",
    "        split_seqs = torch.stack([torch.tensor(enc_pair[0]) for key, enc_pair in split_data.items()])\n",
    "        split_tags = torch.stack([torch.tensor(enc_pair[1]) for key, enc_pair in split_data.items()])\n",
    "        # Create torch dataset from tensors\n",
    "        split_dataset = RealDataset(sequences=split_seqs, tags=split_tags)\n",
    "        # Add to dictionary\n",
    "        datasets[split] = split_dataset #split_dataloader\n",
    "\n",
    "        # Create torch dataloader generator from dataset\n",
    "        if split == 'test':\n",
    "            test_dataloader = DataLoader(dataset=split_dataset, batch_size=batch_size, shuffle=True, num_workers=0)\n",
    "        if split == 'valid':\n",
    "            val_dataloader = DataLoader(dataset=split_dataset, batch_size=batch_size, shuffle=True, num_workers=0)"
   ]
  },
  {
   "cell_type": "markdown",
   "metadata": {},
   "source": [
    "#### Training Routine\n",
    "X_U = Unlabelled dataset <br>\n",
    "X_L = Labelled dataset"
   ]
  },
  {
   "cell_type": "code",
   "execution_count": null,
   "metadata": {},
   "outputs": [],
   "source": [
    "G_rounds = 1\n",
    "D_rounds = 1"
   ]
  },
  {
   "cell_type": "code",
   "execution_count": null,
   "metadata": {},
   "outputs": [],
   "source": [
    "# loss\n",
    "criterion = nn.BCELoss()    # Needs to be updated for earth mover distance metric in the future"
   ]
  },
  {
   "cell_type": "code",
   "execution_count": null,
   "metadata": {},
   "outputs": [],
   "source": [
    "# optimizer\n",
    "lr = 0.0002\n",
    "G_optim = optim.Adam(G.parameters(), lr=lr)\n",
    "D_optim = optim.Adam(D.paramaters(), lr=lr)"
   ]
  },
  {
   "cell_type": "code",
   "execution_count": null,
   "metadata": {},
   "outputs": [],
   "source": [
    "def D_train(x):\n",
    "    # Train the discriminator\n",
    "    \n",
    "    D.zero_grad()\n",
    "    \n",
    "    # Train discriminator on real\n",
    "    x_real, y_real = 0,0\n",
    "    \n",
    "    D_output = D(x_real)\n",
    "    D_real_loss = criterion(D_output, y_real)\n",
    "    D_real_score = D_output\n",
    "    \n",
    "    # Train discriminator on fake\n",
    "    z = 'random'\n",
    "    x_fake, y_fake = G(z), 0\n",
    "\n",
    "    D_output = D(x_fake)\n",
    "    D_fake_loss = criterion(D_output, y_fake)\n",
    "    D_fake_score = D_output\n",
    "    \n",
    "    # Gradient backprop and optimise only D's parameters\n",
    "    D_loss = D_real_loss + D_fake_loss\n",
    "    D_loss.backward()\n",
    "    D_optim.step()\n",
    "    \n",
    "    return D_loss.data.item()"
   ]
  },
  {
   "cell_type": "code",
   "execution_count": null,
   "metadata": {},
   "outputs": [],
   "source": [
    "def G_train(x):\n",
    "    # Train the generator\n",
    "    G.zero_grad()\n",
    "    \n",
    "    z = 'random'\n",
    "    y = 1\n",
    "    \n",
    "    G_output = G(z)\n",
    "    D_output = D(G_output)\n",
    "    G_loss = criterion(D_output, y)\n",
    "    \n",
    "    # Gradient backprop and optimise only G's parameters\n",
    "    G_loss.backward()\n",
    "    G_optim.step()\n",
    "    \n",
    "    return G_loss.data.item()"
   ]
  },
  {
   "cell_type": "code",
   "execution_count": 50,
   "metadata": {},
   "outputs": [
    {
     "ename": "NameError",
     "evalue": "name 'dataloader' is not defined",
     "output_type": "error",
     "traceback": [
      "\u001b[0;31m---------------------------------------------------------------------------\u001b[0m",
      "\u001b[0;31mNameError\u001b[0m                                 Traceback (most recent call last)",
      "\u001b[0;32m<ipython-input-50-77b47db3b785>\u001b[0m in \u001b[0;36m<module>\u001b[0;34m\u001b[0m\n\u001b[1;32m      2\u001b[0m \u001b[0;32mfor\u001b[0m \u001b[0mepoch\u001b[0m \u001b[0;32min\u001b[0m \u001b[0mrange\u001b[0m\u001b[0;34m(\u001b[0m\u001b[0;36m1\u001b[0m\u001b[0;34m,\u001b[0m \u001b[0mepochs\u001b[0m\u001b[0;34m+\u001b[0m\u001b[0;36m1\u001b[0m\u001b[0;34m,\u001b[0m \u001b[0;36m1\u001b[0m\u001b[0;34m)\u001b[0m\u001b[0;34m:\u001b[0m\u001b[0;34m\u001b[0m\u001b[0;34m\u001b[0m\u001b[0m\n\u001b[1;32m      3\u001b[0m \u001b[0;34m\u001b[0m\u001b[0m\n\u001b[0;32m----> 4\u001b[0;31m     \u001b[0;32mfor\u001b[0m \u001b[0mbatch_seq\u001b[0m\u001b[0;34m,\u001b[0m \u001b[0mbatch_len\u001b[0m\u001b[0;34m,\u001b[0m \u001b[0mbatch_tags\u001b[0m \u001b[0;32min\u001b[0m \u001b[0mdataloader\u001b[0m\u001b[0;34m:\u001b[0m\u001b[0;34m\u001b[0m\u001b[0;34m\u001b[0m\u001b[0m\n\u001b[0m\u001b[1;32m      5\u001b[0m \u001b[0;34m\u001b[0m\u001b[0m\n\u001b[1;32m      6\u001b[0m         \u001b[0;32mif\u001b[0m \u001b[0mtorch\u001b[0m\u001b[0;34m.\u001b[0m\u001b[0mcuda\u001b[0m\u001b[0;34m.\u001b[0m\u001b[0mis_available\u001b[0m\u001b[0;34m(\u001b[0m\u001b[0;34m)\u001b[0m\u001b[0;34m:\u001b[0m\u001b[0;34m\u001b[0m\u001b[0;34m\u001b[0m\u001b[0m\n",
      "\u001b[0;31mNameError\u001b[0m: name 'dataloader' is not defined"
     ]
    }
   ],
   "source": [
    "epochs = 10\n",
    "for epoch in range(1, epochs+1, 1):\n",
    "    \n",
    "    D_losses, G_losses = list(), list()\n",
    "    for batch_seq, batch_len, batch_tags in dataloader:\n",
    "        \n",
    "        if torch.cuda.is_available():\n",
    "            batch_seq = 0\n",
    "            batch_len = 0\n",
    "        \n",
    "        \n",
    "        # pass data through pre-trained VAE\n",
    "        z_vae = vae(batch_seq, batch_len)\n",
    "        \n",
    "        # Train D and G\n",
    "        D_losses.append(D_train(x))\n",
    "        G_losses.append(G_train(x))\n",
    "        \n",
    "    print(f'Losses go here...')"
   ]
  },
  {
   "cell_type": "raw",
   "metadata": {},
   "source": [
    "with torch.no_grad():\n",
    "    test_z = Variable(torch.randn(bs, z_dim).to(device))\n",
    "    generated = G(test_z)\n",
    "\n",
    "    save_image(generated.view(generated.size(0), 1, 28, 28), './samples/sample_' + '.png')"
   ]
  }
 ],
 "metadata": {
  "kernelspec": {
   "display_name": "Python 3",
   "language": "python",
   "name": "python3"
  },
  "language_info": {
   "codemirror_mode": {
    "name": "ipython",
    "version": 3
   },
   "file_extension": ".py",
   "mimetype": "text/x-python",
   "name": "python",
   "nbconvert_exporter": "python",
   "pygments_lexer": "ipython3",
   "version": "3.8.5"
  }
 },
 "nbformat": 4,
 "nbformat_minor": 4
}
