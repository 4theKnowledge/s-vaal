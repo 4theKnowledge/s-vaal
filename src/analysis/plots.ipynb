{
 "cells": [
  {
   "cell_type": "markdown",
   "metadata": {},
   "source": [
    "# Plotter for AL Results"
   ]
  },
  {
   "cell_type": "code",
   "execution_count": 150,
   "metadata": {},
   "outputs": [],
   "source": [
    "import matplotlib.pyplot as plt\n",
    "import json\n",
    "import numpy as np"
   ]
  },
  {
   "cell_type": "markdown",
   "metadata": {},
   "source": [
    "## Preprocess data"
   ]
  },
  {
   "cell_type": "markdown",
   "metadata": {},
   "source": [
    "Pre-process results of training cycles for different active learning routines."
   ]
  },
  {
   "cell_type": "code",
   "execution_count": 151,
   "metadata": {},
   "outputs": [],
   "source": [
    "results_path = '../results/results_svaal.json'\n",
    "with open(results_path, 'r') as fj:\n",
    "    results = json.load(fj)"
   ]
  },
  {
   "cell_type": "code",
   "execution_count": 152,
   "metadata": {},
   "outputs": [],
   "source": [
    "# Need to unstack each data split\n",
    "splits = list(results[list(results.keys())[0]].keys())\n",
    "split_results = {split: [] for split in splits}\n",
    "for split in splits:\n",
    "#     print(split)\n",
    "    for run in results.keys():\n",
    "        split_results[split].append(results[run][split][0])   # just taking first metric for now..."
   ]
  },
  {
   "cell_type": "code",
   "execution_count": 153,
   "metadata": {},
   "outputs": [
    {
     "data": {
      "text/plain": [
       "{'0.1': [0.8176557261522591, 0.8211451440515786, 0.8157763343441801],\n",
       " '0.2': [0.8175087549781634, 0.8193286003456753, 0.8140686820644899],\n",
       " '0.3': [0.8171985564966938, 0.8168422553179836, 0.8159446470920915],\n",
       " '0.4': [0.8132701805847853, 0.8187359053838923, 0.8151131736984397],\n",
       " '0.5': [0.8179332252371068, 0.8130547571240223, 0.8120962465380963],\n",
       " '0.6': [0.8123598642898056, 0.8120279221119548, 0.8163593097203454],\n",
       " '0.7': [0.8121978004732102, 0.8122548616460501, 0.8160441317875721],\n",
       " '0.8': [0.8161042167823379, 0.8154624117176784, 0.813270646484088],\n",
       " '0.9': [0.813625958787634, 0.8152775623775977, 0.8145472348042988]}"
      ]
     },
     "execution_count": 153,
     "metadata": {},
     "output_type": "execute_result"
    }
   ],
   "source": [
    "split_results"
   ]
  },
  {
   "cell_type": "code",
   "execution_count": 154,
   "metadata": {},
   "outputs": [],
   "source": [
    "# Get statistics of runs\n",
    "# split_stats = {split:  for split in splits}\n",
    "split_stats = dict()\n",
    "for split in splits:\n",
    "    split_stats[split] = dict()\n",
    "    split_stats[split]['mean'] = np.mean(split_results[split])\n",
    "    split_stats[split]['q1'] = np.quantile(split_results[split], 0.25)\n",
    "    split_stats[split]['q3'] = np.quantile(split_results[split], 0.75)\n",
    "#     split_stats[split].append()"
   ]
  },
  {
   "cell_type": "code",
   "execution_count": 155,
   "metadata": {},
   "outputs": [
    {
     "data": {
      "text/plain": [
       "{'0.1': {'mean': 0.8181924015160059,\n",
       "  'q1': 0.8167160302482196,\n",
       "  'q3': 0.8194004351019188},\n",
       " '0.2': {'mean': 0.8169686791294429,\n",
       "  'q1': 0.8157887185213266,\n",
       "  'q3': 0.8184186776619193},\n",
       " '0.3': {'mean': 0.8166618196355896,\n",
       "  'q1': 0.8163934512050375,\n",
       "  'q3': 0.8170204059073387},\n",
       " '0.4': {'mean': 0.8157064198890391,\n",
       "  'q1': 0.8141916771416124,\n",
       "  'q3': 0.816924539541166},\n",
       " '0.5': {'mean': 0.8143614096330752,\n",
       "  'q1': 0.8125755018310593,\n",
       "  'q3': 0.8154939911805645},\n",
       " '0.6': {'mean': 0.8135823653740353,\n",
       "  'q1': 0.8121938932008802,\n",
       "  'q3': 0.8143595870050755},\n",
       " '0.7': {'mean': 0.8134989313022775,\n",
       "  'q1': 0.8122263310596302,\n",
       "  'q3': 0.814149496716811},\n",
       " '0.8': {'mean': 0.8149457583280348,\n",
       "  'q1': 0.8143665291008833,\n",
       "  'q3': 0.8157833142500082},\n",
       " '0.9': {'mean': 0.8144835853231768,\n",
       "  'q1': 0.8140865967959664,\n",
       "  'q3': 0.8149123985909483}}"
      ]
     },
     "execution_count": 155,
     "metadata": {},
     "output_type": "execute_result"
    }
   ],
   "source": [
    "split_stats"
   ]
  },
  {
   "cell_type": "code",
   "execution_count": 156,
   "metadata": {},
   "outputs": [],
   "source": [
    "x = [f'{float(k)*100:0.0f}%' for k in split_stats.keys()]"
   ]
  },
  {
   "cell_type": "code",
   "execution_count": 157,
   "metadata": {},
   "outputs": [],
   "source": [
    "y_mean = [v[\"mean\"]*100 for k, v in split_stats.items()]\n",
    "y_q1 = [v[\"q1\"]*100 for k, v in split_stats.items()]\n",
    "y_q3 = [v[\"q3\"]*100 for k, v in split_stats.items()]"
   ]
  },
  {
   "cell_type": "code",
   "execution_count": 158,
   "metadata": {},
   "outputs": [
    {
     "data": {
      "text/plain": [
       "[81.8192401516006,\n",
       " 81.6968679129443,\n",
       " 81.66618196355896,\n",
       " 81.57064198890392,\n",
       " 81.43614096330752,\n",
       " 81.35823653740353,\n",
       " 81.34989313022774,\n",
       " 81.49457583280349,\n",
       " 81.44835853231768]"
      ]
     },
     "execution_count": 158,
     "metadata": {},
     "output_type": "execute_result"
    }
   ],
   "source": [
    "y_mean"
   ]
  },
  {
   "cell_type": "code",
   "execution_count": 159,
   "metadata": {},
   "outputs": [],
   "source": [
    "full_data_perf = 82.02"
   ]
  },
  {
   "cell_type": "code",
   "execution_count": 160,
   "metadata": {},
   "outputs": [
    {
     "data": {
      "image/png": "[encoded data removed]",
      "text/plain": [
       "<Figure size 432x288 with 1 Axes>"
      ]
     },
     "metadata": {
      "needs_background": "light"
     },
     "output_type": "display_data"
    }
   ],
   "source": [
    "fig, ax = plt.subplots()\n",
    "\n",
    "plt.plot(x, y_mean, color='black', linestyle='dashed')\n",
    "plt.fill_between(x, y_q1, y_q3, alpha=0.5)\n",
    "plt.title('Something goes here')\n",
    "plt.xlabel('Proportion of Data')\n",
    "plt.ylabel('Performance (F1 Macro)')\n",
    "# plt.ylim([min(y_q1), max(y_q3)])\n",
    "plt.legend(['Random'], loc='lower right')\n",
    "plt.hlines(y=full_data_perf, xmin=min(x), xmax=max(x), linestyle='dashed', color='green')\n",
    "# these are matplotlib.patch.Patch properties\n",
    "props = dict(boxstyle='square', facecolor='white', alpha=0.5)\n",
    "plt.text(0.8, 0.9, 'Full Data', transform=ax.transAxes, fontsize=12,\n",
    "        verticalalignment='top', color='green')\n",
    "\n",
    "\n",
    "plt.show()"
   ]
  },
  {
   "cell_type": "code",
   "execution_count": null,
   "metadata": {},
   "outputs": [],
   "source": []
  }
 ],
 "metadata": {
  "kernelspec": {
   "display_name": "Python 3",
   "language": "python",
   "name": "python3"
  },
  "language_info": {
   "codemirror_mode": {
    "name": "ipython",
    "version": 3
   },
   "file_extension": ".py",
   "mimetype": "text/x-python",
   "name": "python",
   "nbconvert_exporter": "python",
   "pygments_lexer": "ipython3",
   "version": "3.8.5"
  }
 },
 "nbformat": 4,
 "nbformat_minor": 4
}
