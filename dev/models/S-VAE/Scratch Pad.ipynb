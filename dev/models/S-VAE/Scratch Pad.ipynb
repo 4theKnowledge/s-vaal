{
 "cells": [
  {
   "cell_type": "markdown",
   "metadata": {},
   "source": [
    "# Sentence VAE - Scratch Pad\n",
    "The intention of this notebook is to gain further insight into SVAE code by deconstructing it into toy examples."
   ]
  },
  {
   "cell_type": "markdown",
   "metadata": {},
   "source": [
    "## Library Import"
   ]
  },
  {
   "cell_type": "code",
   "execution_count": 4,
   "metadata": {},
   "outputs": [],
   "source": [
    "import numpy as np"
   ]
  },
  {
   "cell_type": "markdown",
   "metadata": {},
   "source": [
    "### Boolean operation in feedforward"
   ]
  },
  {
   "cell_type": "code",
   "execution_count": 5,
   "metadata": {},
   "outputs": [],
   "source": [
    "sent = np.array([10,4,2])\n",
    "sos_idx = 4\n",
    "pad_idx = 2\n",
    "prob = np.random.rand(len(sent))"
   ]
  },
  {
   "cell_type": "code",
   "execution_count": 6,
   "metadata": {},
   "outputs": [
    {
     "name": "stdout",
     "output_type": "stream",
     "text": [
      "Initial prob [0.39846021 0.75306756 0.3649114 ]\n",
      "Transformed prob [0.39846021 1.         1.        ]\n",
      "sos_idx component [ 6  0 -2]\n",
      "pad_idx component [8 2 0]\n",
      "both idx components [48  0  0]\n"
     ]
    }
   ],
   "source": [
    "print(f'Initial prob {prob}')\n",
    "prob[(sent - sos_idx) * (sent - pad_idx) == 0] = 1\n",
    "print(f'Transformed prob {prob}')\n",
    "print(f'sos_idx component {(sent-sos_idx)}')\n",
    "print(f'pad_idx component {(sent-pad_idx)}')\n",
    "print(f'both idx components {(sent - sos_idx) * (sent - pad_idx)}')"
   ]
  },
  {
   "cell_type": "markdown",
   "metadata": {},
   "source": [
    "### Greedy Sampling\n",
    "Within inference method"
   ]
  },
  {
   "cell_type": "code",
   "execution_count": 7,
   "metadata": {},
   "outputs": [],
   "source": [
    "import torch"
   ]
  },
  {
   "cell_type": "code",
   "execution_count": 8,
   "metadata": {},
   "outputs": [],
   "source": [
    "rand_tensor = torch.randn(size=(10,3))"
   ]
  },
  {
   "cell_type": "code",
   "execution_count": 9,
   "metadata": {},
   "outputs": [],
   "source": [
    "def _sample(dist, mode='greedy'):\n",
    "    \"\"\" \n",
    "    Greedy sampling algorithm: Greedily returns argmax of tensor based on logits\n",
    "    \"\"\"\n",
    "    print(f'Input sequence:\\n {dist}')\n",
    "    if mode == 'greedy':\n",
    "        _, sample = torch.topk(dist, 1, dim=-1)\n",
    "    sample = sample.reshape(-1)\n",
    "\n",
    "    return sample"
   ]
  },
  {
   "cell_type": "code",
   "execution_count": 10,
   "metadata": {},
   "outputs": [
    {
     "name": "stdout",
     "output_type": "stream",
     "text": [
      "Input sequence:\n",
      " tensor([[-0.3074, -0.0924, -0.8730],\n",
      "        [ 0.9915,  1.2629, -0.1956],\n",
      "        [-1.5238, -0.0903,  0.7500],\n",
      "        [-0.6692,  0.8578, -0.3817],\n",
      "        [-0.2228, -1.1577, -1.3455],\n",
      "        [-1.0497,  0.4658, -2.1707],\n",
      "        [ 1.7036,  0.3899,  0.2124],\n",
      "        [-2.1532,  0.8691,  0.1331],\n",
      "        [ 0.2165, -0.1620, -0.2821],\n",
      "        [ 0.8283,  0.0305, -0.7849]])\n"
     ]
    },
    {
     "data": {
      "text/plain": [
       "tensor([1, 1, 2, 1, 0, 1, 0, 1, 0, 0])"
      ]
     },
     "execution_count": 10,
     "metadata": {},
     "output_type": "execute_result"
    }
   ],
   "source": [
    "_sample(rand_tensor)"
   ]
  },
  {
   "cell_type": "markdown",
   "metadata": {},
   "source": [
    "## Kullback-Liebler Annealing Function"
   ]
  },
  {
   "cell_type": "code",
   "execution_count": 14,
   "metadata": {},
   "outputs": [],
   "source": [
    "import matplotlib.pyplot as plt"
   ]
  },
  {
   "cell_type": "code",
   "execution_count": 11,
   "metadata": {},
   "outputs": [],
   "source": [
    "def kl_anneal_function(anneal_function, step, k, x0):\n",
    "    \"\"\" Anneals KL term at training time \n",
    "    \n",
    "    Bowman et al. 2016\n",
    "    \"\"\"\n",
    "    if anneal_function == 'logistic':\n",
    "        return float(1/(1 + np.exp(-k*(step-x0))))\n",
    "    \n",
    "    elif anneal_function == 'linear':\n",
    "        return min(1, step/x0)"
   ]
  },
  {
   "cell_type": "code",
   "execution_count": 53,
   "metadata": {},
   "outputs": [],
   "source": [
    "k = 0.05\n",
    "steps = 500\n",
    "output_hist = []\n",
    "for step in range(1, steps+1):\n",
    "    output = kl_anneal_function(\"logistic\", step=step, k=k, x0=250)\n",
    "#     print(f'Step {step} - KL annealing factor: {k}')\n",
    "    output_hist.append(output)"
   ]
  },
  {
   "cell_type": "code",
   "execution_count": 54,
   "metadata": {},
   "outputs": [
    {
     "data": {
      "text/plain": [
       "[<matplotlib.lines.Line2D at 0x7f5fd43bd730>]"
      ]
     },
     "execution_count": 54,
     "metadata": {},
     "output_type": "execute_result"
    },
    {
     "data": {
      "image/png": "[encoded data removed]",
      "text/plain": [
       "<Figure size 432x288 with 1 Axes>"
      ]
     },
     "metadata": {
      "needs_background": "light"
     },
     "output_type": "display_data"
    }
   ],
   "source": [
    "plt.plot(output_hist)"
   ]
  },
  {
   "cell_type": "code",
   "execution_count": null,
   "metadata": {},
   "outputs": [],
   "source": []
  }
 ],
 "metadata": {
  "kernelspec": {
   "display_name": "Python 3",
   "language": "python",
   "name": "python3"
  },
  "language_info": {
   "codemirror_mode": {
    "name": "ipython",
    "version": 3
   },
   "file_extension": ".py",
   "mimetype": "text/x-python",
   "name": "python",
   "nbconvert_exporter": "python",
   "pygments_lexer": "ipython3",
   "version": "3.8.5"
  }
 },
 "nbformat": 4,
 "nbformat_minor": 4
}
